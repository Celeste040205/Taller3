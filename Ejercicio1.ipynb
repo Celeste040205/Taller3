{
 "cells": [
  {
   "cell_type": "markdown",
   "id": "734acce7-4e4a-43a4-b00b-0d19139768ea",
   "metadata": {},
   "source": [
    "## Taller 3\n",
    "## Ejercicio 1\n",
    "Grafique las curvas de las series de Taylor de varios órdenes para los siguientes casos:\n",
    "\n",
    "$cos(x), \\quad x_0=0$"
   ]
  },
  {
   "cell_type": "code",
   "execution_count": null,
   "id": "a86fc064-ecce-44ae-ab69-c430e64d253c",
   "metadata": {},
   "outputs": [],
   "source": []
  }
 ],
 "metadata": {
  "kernelspec": {
   "display_name": "Python 3 (ipykernel)",
   "language": "python",
   "name": "python3"
  },
  "language_info": {
   "codemirror_mode": {
    "name": "ipython",
    "version": 3
   },
   "file_extension": ".py",
   "mimetype": "text/x-python",
   "name": "python",
   "nbconvert_exporter": "python",
   "pygments_lexer": "ipython3",
   "version": "3.11.10"
  }
 },
 "nbformat": 4,
 "nbformat_minor": 5
}
